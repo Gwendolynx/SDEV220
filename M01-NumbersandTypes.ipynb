{
 "cells": [
  {
   "cell_type": "code",
   "execution_count": 1,
   "id": "bbacb85a-450c-4db7-a8fc-3dfa17557253",
   "metadata": {},
   "outputs": [
    {
     "name": "stdout",
     "output_type": "stream",
     "text": [
      "Number of minutes in an hour = 3600\n"
     ]
    }
   ],
   "source": [
    "# 3.1 How many seconds are in an hour? Use the interactive interpreter as a calculator and multiply the number of seconds in a minute (60)\n",
    "# by the number of minutes in an hour (also 60).\n",
    "seconds = 60\n",
    "minute = 60\n",
    "hour = seconds * minute\n",
    "print(\"Number of minutes in an hour =\", hour)\n"
   ]
  },
  {
   "cell_type": "code",
   "execution_count": 2,
   "id": "0eaa2496-53d2-4d49-8bb9-201091092c7a",
   "metadata": {},
   "outputs": [
    {
     "name": "stdout",
     "output_type": "stream",
     "text": [
      "3600\n"
     ]
    }
   ],
   "source": [
    "# 3.2 Assign the result from the previous task (seconds in an hour) to a variable called seconds_per_hour.\n",
    "seconds_per_hour = hour\n",
    "print(seconds_per_hour)"
   ]
  },
  {
   "cell_type": "code",
   "execution_count": 3,
   "id": "4ae3cf23-4b48-42d3-9cf7-eb95c5747c6b",
   "metadata": {},
   "outputs": [
    {
     "name": "stdout",
     "output_type": "stream",
     "text": [
      "Number of seconds in a day:  86400\n"
     ]
    }
   ],
   "source": [
    "# 3.3 How many seconds are in a day? Use your seconds_per_hour variable.\n",
    "day = 24 * seconds_per_hour\n",
    "    # used 24 in day variable because there are 24 hours in a day\n",
    "print(\"Number of seconds in a day: \", day)"
   ]
  },
  {
   "cell_type": "code",
   "execution_count": 4,
   "id": "a4da65c1-4bb6-47c3-9329-a65b2cde65f3",
   "metadata": {},
   "outputs": [
    {
     "name": "stdout",
     "output_type": "stream",
     "text": [
      "Number of seconds in a day:  86400\n"
     ]
    }
   ],
   "source": [
    "# 3.4 Calculate seconds per day again, but this time save the result in a variable called seconds_per_day.\n",
    "seconds_per_day = day\n",
    "print(\"Number of seconds in a day: \", seconds_per_day)"
   ]
  },
  {
   "cell_type": "code",
   "execution_count": 5,
   "id": "3a291780-9901-43b3-ab11-e0244bddc300",
   "metadata": {},
   "outputs": [
    {
     "data": {
      "text/plain": [
       "24.0"
      ]
     },
     "execution_count": 5,
     "metadata": {},
     "output_type": "execute_result"
    }
   ],
   "source": [
    "# 3.5 Divide seconds_per_day by seconds_per_hour. Use floating-point (/) division.\n",
    "seconds_per_day / seconds_per_hour"
   ]
  },
  {
   "cell_type": "code",
   "execution_count": 6,
   "id": "dc20d82f-420e-4cee-a2d5-8eb49ae02805",
   "metadata": {},
   "outputs": [
    {
     "data": {
      "text/plain": [
       "24"
      ]
     },
     "execution_count": 6,
     "metadata": {},
     "output_type": "execute_result"
    }
   ],
   "source": [
    "# 3.6 Divide seconds_per_day by seconds_per_hour, using integer (//) division.\n",
    "# Did this number agree with the floating-point value from the previous question, aside from the final .0?\n",
    "seconds_per_day // seconds_per_hour"
   ]
  },
  {
   "cell_type": "code",
   "execution_count": 7,
   "id": "b4e80324-29da-4ab5-b720-83a0551f2076",
   "metadata": {},
   "outputs": [],
   "source": [
    "# Yes, this number agreed with previous value aside from the final .0 Both are equal to the value 24."
   ]
  }
 ],
 "metadata": {
  "kernelspec": {
   "display_name": "Python 3 (ipykernel)",
   "language": "python",
   "name": "python3"
  },
  "language_info": {
   "codemirror_mode": {
    "name": "ipython",
    "version": 3
   },
   "file_extension": ".py",
   "mimetype": "text/x-python",
   "name": "python",
   "nbconvert_exporter": "python",
   "pygments_lexer": "ipython3",
   "version": "3.12.7"
  }
 },
 "nbformat": 4,
 "nbformat_minor": 5
}
